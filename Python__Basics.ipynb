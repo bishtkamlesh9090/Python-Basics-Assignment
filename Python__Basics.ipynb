{
  "nbformat": 4,
  "nbformat_minor": 0,
  "metadata": {
    "colab": {
      "provenance": []
    },
    "kernelspec": {
      "name": "python3",
      "display_name": "Python 3"
    },
    "language_info": {
      "name": "python"
    }
  },
  "cells": [
    {
      "cell_type": "markdown",
      "source": [
        "**Assignment 1 ✈**:"
      ],
      "metadata": {
        "id": "bBvKeSzhTYq4"
      }
    },
    {
      "cell_type": "markdown",
      "source": [
        "Q1 - What is Python, and why is it popular ?\n",
        "     Ans. - Python is a high-level, versatile programming language known for its simplicity and readability. Python is popular beacuase easy to learn, Large community & Libraries and High deamand in Industry.\n",
        "\n",
        "Q2 -  What is an interpreter in Python?\n",
        "      Ans. - An interpreter in Python is a program that executes Python code line by line, converting it into machine-readable instructions.\n",
        "\n",
        "Q3 - What are pre-defined keywords in Python ?\n",
        "     Ans. - Pre-defined keywords in Python are reserved words that have special meanings and cannot be used as variable names, function names, or identifiers.\n",
        "     Examples of Python Keywords:if, else, while, for, def, class, import, try, except, return, True, False, None, etc.\n",
        "\n",
        "Q4. - Can keywords be used as variable names ?\n",
        "      Ans.- No, Keywords are reserved words in Python that have special meanings and cannot be used as identifiers (variable names, function names, etc.)\n",
        "\n",
        "\n",
        "    \n",
        "Q5. - What is mutability in Python?\n",
        "      Ans. - In Python, objects can be either changeable (modifiable)\n",
        "\n",
        "Q6. - Why are lists mutable, but tuples are immutable?\n",
        "     Ans. - Lists are mutable because they are designed for dynamic data storage. we can modify, add, or remove elements without creating a new list.\n",
        "     Tuples are immutable because they are optimized for performance and safety. Since tuples cannot be changed, they require less memory and are faster in operations like iteration and hashing.\n",
        "  \n",
        "Q7.  What is the difference between “==” and “is” operators in Python ?\n",
        "     Ans. -  == checks value equality—whether the values of two objects are the same.\n",
        "     \"is\" operators Checks object identity—whether two variables reference the same object in memory.\n",
        "\n",
        "Q8.   What are logical operators in Python ?\n",
        "      Ans.-  And, OR and Not are the logical operators in python.\n",
        "\n",
        "Q9.   What is type casting in Python ?\n",
        "      Ans. - There are two type of type casting-\n",
        "       1. Implicit Type Casting (Automatic Conversion)\n",
        "       Python automatically converts one data type to another without explicit instruction.\n",
        "       2. Explicit Type Casting (Manual Conversion) Done manually using built-in functions.\n",
        "\n",
        "Q10.   What is the difference between implicit and explicit type    \n",
        "       casting ?\n",
        "       Ans. -  . Implicit Type Casting -\n",
        "                 Python automatically converts one data type to another.\n",
        "                 Done by Python without user intervention\n",
        "                 No risk of data loss.\n",
        "                 integer automatically converted to float in arithmetic operations.\n",
        "                 Explicit Type Casting - User manually converts one data type to another using functions.\n",
        "                 Done manually using functions like int(), float(), str(), etc.\n",
        "                 May lead to data loss (e.g., converting float to int removes decimal part).\n",
        "\n",
        "Q11.  What is the purpose of conditional statements in Python ?\n",
        "      Ans. Conditional statements help a program make decisions based on conditions. If a condition is True, one block of code runs; if it's False, another block runs.\n",
        "\n",
        "Q12.  How does the elif statement work ?\n",
        "      Ans. - The elif statement is used when you have multiple conditions to check.\n",
        "\n",
        "Q13.  What is the difference between for and while loops ?\n",
        "      Ans. - For loop - Use for when you know the count.\n",
        "             while loop - when you don't know the count, but have a condition.\n",
        "\n",
        "Q14.   Describe a scenario where a while loop is more suitable than a for\n",
        "       loop?\n",
        "       Ans. - for example - Asking a user for the correct password\n",
        "\n",
        "       don't know how many times the user will enter the wrong password.\n",
        "      The loop should run until they enter the correct one."
      ],
      "metadata": {
        "id": "fuoKBRlFo7RC"
      }
    },
    {
      "cell_type": "markdown",
      "source": [
        "Practical Questions Answer\n"
      ],
      "metadata": {
        "id": "eQDczDBb9B8b"
      }
    },
    {
      "cell_type": "markdown",
      "source": [
        "Q.1  Write a Python program to print \"Hello, World!"
      ],
      "metadata": {
        "id": "ekoGvAtC9dun"
      }
    },
    {
      "cell_type": "code",
      "source": [
        "#Ans. 1\n",
        "print(\"Hello, World!\")"
      ],
      "metadata": {
        "colab": {
          "base_uri": "https://localhost:8080/"
        },
        "id": "iyvUmzRP9h48",
        "outputId": "f1d064ab-eca5-442d-ce86-f421a92afd27"
      },
      "execution_count": 8,
      "outputs": [
        {
          "output_type": "stream",
          "name": "stdout",
          "text": [
            "Hello, World!\n"
          ]
        }
      ]
    },
    {
      "cell_type": "markdown",
      "source": [
        "Q.2 Write a Python program that displays your name and age"
      ],
      "metadata": {
        "id": "pknq_ra0-ijy"
      }
    },
    {
      "cell_type": "code",
      "source": [
        "#Ans. 2\n",
        "name = \"Kamlesh Singh\"\n",
        "age = 30\n",
        "print(\"My name is\",name)\n",
        "print(\"My age is\", age)"
      ],
      "metadata": {
        "colab": {
          "base_uri": "https://localhost:8080/"
        },
        "id": "TyJtAL-Q9ivG",
        "outputId": "bd7277d0-5bdb-4393-8bff-61dd8fcd4a28"
      },
      "execution_count": 17,
      "outputs": [
        {
          "output_type": "stream",
          "name": "stdout",
          "text": [
            "My name is Kamlesh Singh\n",
            "My age is 30\n"
          ]
        }
      ]
    },
    {
      "cell_type": "markdown",
      "source": [
        "Q.3 Write code to print all the pre-defined keywords in Python using the\n",
        "     keyword library?"
      ],
      "metadata": {
        "id": "3HlkpITfARD3"
      }
    },
    {
      "cell_type": "code",
      "source": [
        "#Ans. 3\n",
        "import keyword\n",
        "print(keyword.kwlist)\n"
      ],
      "metadata": {
        "colab": {
          "base_uri": "https://localhost:8080/"
        },
        "id": "TuFCA29D9JtM",
        "outputId": "9ef26590-7add-4d7e-a29d-747e5da0df81"
      },
      "execution_count": 21,
      "outputs": [
        {
          "output_type": "stream",
          "name": "stdout",
          "text": [
            "['False', 'None', 'True', 'and', 'as', 'assert', 'async', 'await', 'break', 'class', 'continue', 'def', 'del', 'elif', 'else', 'except', 'finally', 'for', 'from', 'global', 'if', 'import', 'in', 'is', 'lambda', 'nonlocal', 'not', 'or', 'pass', 'raise', 'return', 'try', 'while', 'with', 'yield']\n"
          ]
        }
      ]
    },
    {
      "cell_type": "markdown",
      "source": [
        "Q.4 Write a program that checks if a given word is a Python keyword."
      ],
      "metadata": {
        "id": "VvdGotago534"
      }
    },
    {
      "cell_type": "code",
      "source": [
        "#Ans. 4\n",
        "import keyword\n",
        "word = input(\"Enter a word: \")\n",
        "if keyword.iskeyword(word):\n",
        "    print(word, \"is a Python keyword.\")\n",
        "else:\n",
        "    print(word, \"is NOT a Python keyword.\")\n",
        "\n",
        "\n"
      ],
      "metadata": {
        "colab": {
          "base_uri": "https://localhost:8080/"
        },
        "id": "ePakD5GODRKK",
        "outputId": "58a9d968-c1c4-42a3-9f33-22c7237adb54"
      },
      "execution_count": 35,
      "outputs": [
        {
          "output_type": "stream",
          "name": "stdout",
          "text": [
            "Enter a word: if\n",
            "if is a Python keyword.\n"
          ]
        }
      ]
    },
    {
      "cell_type": "markdown",
      "source": [
        "Q.5  Create a list and tuple in Python, and demonstrate how attempting to\n",
        "     change an element works differently\n",
        "     for each?"
      ],
      "metadata": {
        "id": "ZjHA90tfK8QP"
      }
    },
    {
      "cell_type": "code",
      "source": [
        "#Ans.5\n",
        "# Creating a list (mutable)\n",
        "my_list = [1, 2, 3]\n",
        "print(\"Original List:\", my_list)\n",
        "\n",
        "# Modifying an element in the list\n",
        "my_list[1] = 99\n",
        "print(\"Modified List:\", my_list)\n",
        "\n",
        "# Creating a tuple (immutable)\n",
        "my_tuple = (1, 2, 3)\n",
        "print(\"Original Tuple:\", my_tuple)\n",
        "\n",
        "# Attempting to modify an element in the tuple (will cause an error)\n",
        "#my_tuple[1] = 99  #  This will cause an error\n"
      ],
      "metadata": {
        "colab": {
          "base_uri": "https://localhost:8080/"
        },
        "id": "ZqpLPrdNK7lA",
        "outputId": "b59dda60-79d2-4e36-bb83-43560750e311"
      },
      "execution_count": 40,
      "outputs": [
        {
          "output_type": "stream",
          "name": "stdout",
          "text": [
            "Original List: [1, 2, 3]\n",
            "Modified List: [1, 99, 3]\n",
            "Original Tuple: (1, 2, 3)\n"
          ]
        }
      ]
    },
    {
      "cell_type": "markdown",
      "source": [
        "Q.6  Write a function to demonstrate the behavior of mutable and immutable\n",
        "     arguments."
      ],
      "metadata": {
        "id": "Twnn-BSZMlh4"
      }
    },
    {
      "cell_type": "code",
      "source": [
        "#Ans.6\n",
        "def modify(num, lst):\n",
        "    num += 10   # Immutable (int) - Won't change outside\n",
        "    lst.append(4)  # Mutable (list) - Will change outside\n",
        "\n",
        "x = 5\n",
        "my_list = [1, 2, 3]\n",
        "\n",
        "modify(x, my_list)\n",
        "\n",
        "print(x)         # Output: 5 (unchanged)\n",
        "print(my_list)   # Output: [1, 2, 3, 4] (changed)\n"
      ],
      "metadata": {
        "colab": {
          "base_uri": "https://localhost:8080/"
        },
        "id": "DlO1RG7oMwcG",
        "outputId": "42027aac-9ce6-4f77-eb64-f17b94956de4"
      },
      "execution_count": 43,
      "outputs": [
        {
          "output_type": "stream",
          "name": "stdout",
          "text": [
            "5\n",
            "[1, 2, 3, 4]\n"
          ]
        }
      ]
    },
    {
      "cell_type": "markdown",
      "source": [
        "Q.7 Write a program that performs basic arithmetic operations on two user-input numbers."
      ],
      "metadata": {
        "id": "M64Rju9iNjLq"
      }
    },
    {
      "cell_type": "code",
      "source": [
        "#Ans.7\n",
        "# Taking user input\n",
        "num1 = float(input(\"Enter first number: \"))\n",
        "num2 = float(input(\"Enter second number: \"))\n",
        "\n",
        "# Performing arithmetic operations\n",
        "print(\"Addition:\", num1 + num2)\n",
        "print(\"Subtraction:\", num1 - num2)\n",
        "print(\"Multiplication:\", num1 * num2)\n",
        "\n",
        "# Handling division by zero\n",
        "if num2 != 0:\n",
        "    print(\"Division:\", num1 / num2)\n",
        "else:\n",
        "    print(\"Division: Cannot divide by zero\")\n"
      ],
      "metadata": {
        "colab": {
          "base_uri": "https://localhost:8080/"
        },
        "id": "DF8fI1gvNnY6",
        "outputId": "8bdbaea6-1da9-412d-992b-1a557bdf09a5"
      },
      "execution_count": 45,
      "outputs": [
        {
          "output_type": "stream",
          "name": "stdout",
          "text": [
            "Enter first number: 12\n",
            "Enter second number: 1\n",
            "Addition: 13.0\n",
            "Subtraction: 11.0\n",
            "Multiplication: 12.0\n",
            "Division: 12.0\n"
          ]
        }
      ]
    },
    {
      "cell_type": "markdown",
      "source": [
        "Q.8  Write a program to demonstrate the use of logical operators."
      ],
      "metadata": {
        "id": "K_yBzn7cOSnx"
      }
    },
    {
      "cell_type": "code",
      "source": [
        "#Ans.8\n",
        "\n",
        "# Taking user input\n",
        "a = int(input(\"Enter first number: \"))\n",
        "b = int(input(\"Enter second number: \"))\n",
        "\n",
        "# Using logical operators\n",
        "print(\"Both numbers are positive:\", a > 0 and b > 0)\n",
        "print(\"At least one number is positive:\", a > 0 or b > 0)\n",
        "print(\"First number is NOT positive:\", not (a > 0))\n"
      ],
      "metadata": {
        "colab": {
          "base_uri": "https://localhost:8080/"
        },
        "id": "dm_ei6nqOfDf",
        "outputId": "c0d1863a-1c63-4569-f1f8-a97b3e3b67bf"
      },
      "execution_count": 46,
      "outputs": [
        {
          "output_type": "stream",
          "name": "stdout",
          "text": [
            "Enter first number: 90\n",
            "Enter second number: 5\n",
            "Both numbers are positive: True\n",
            "At least one number is positive: True\n",
            "First number is NOT positive: False\n"
          ]
        }
      ]
    },
    {
      "cell_type": "markdown",
      "source": [
        "Q.9  Write a Python program to convert user input from string to integer, float, and boolean types.\n",
        "\n",
        "---\n",
        "\n"
      ],
      "metadata": {
        "id": "etRyVUF4O-Lf"
      }
    },
    {
      "cell_type": "code",
      "source": [
        "#Ans.9\n",
        "# Taking user input as a string\n",
        "user_input = input(\"Enter a value: \")\n",
        "\n",
        "# Converting to different types\n",
        "int_value = int(user_input)    # Converts to integer\n",
        "float_value = float(user_input)  # Converts to float\n",
        "bool_value = bool(user_input)  # Converts to boolean\n",
        "\n",
        "# Displaying the converted values\n",
        "print(\"Integer:\", int_value)\n",
        "print(\"Float:\", float_value)\n",
        "print(\"Boolean:\", bool_value)\n"
      ],
      "metadata": {
        "colab": {
          "base_uri": "https://localhost:8080/"
        },
        "id": "UQ1AdWGiPEQM",
        "outputId": "e145f08c-a206-4b2c-f56e-79d72f18fdb4"
      },
      "execution_count": 49,
      "outputs": [
        {
          "output_type": "stream",
          "name": "stdout",
          "text": [
            "Enter a value: 18\n",
            "Integer: 18\n",
            "Float: 18.0\n",
            "Boolean: True\n"
          ]
        }
      ]
    },
    {
      "cell_type": "markdown",
      "source": [
        "Q.10 Write code to demonstrate type casting with list elements."
      ],
      "metadata": {
        "id": "cdFhzbqhPfBu"
      }
    },
    {
      "cell_type": "code",
      "source": [
        "#Ans. 10\n",
        "\n",
        "# Original list with string numbers\n",
        "str_list = [\"10\", \"20\", \"30\", \"40\"]\n",
        "\n",
        "# Converting string list to integer list\n",
        "int_list = [int(num) for num in str_list]\n",
        "\n",
        "# Converting integer list to float list\n",
        "float_list = [float(num) for num in int_list]\n",
        "\n",
        "# Converting integer list to boolean list\n",
        "bool_list = [bool(num) for num in int_list]\n",
        "\n",
        "# Printing results\n",
        "print(\"Original String List:\", str_list)\n",
        "print(\"Integer List:\", int_list)\n",
        "print(\"Float List:\", float_list)\n",
        "print(\"Boolean List:\", bool_list)\n"
      ],
      "metadata": {
        "colab": {
          "base_uri": "https://localhost:8080/"
        },
        "id": "iG8aIFfTPenR",
        "outputId": "e3734912-fb46-4cc6-8f0a-c00bf5e5f4b5"
      },
      "execution_count": 51,
      "outputs": [
        {
          "output_type": "stream",
          "name": "stdout",
          "text": [
            "Original String List: ['10', '20', '30', '40']\n",
            "Integer List: [10, 20, 30, 40]\n",
            "Float List: [10.0, 20.0, 30.0, 40.0]\n",
            "Boolean List: [True, True, True, True]\n"
          ]
        }
      ]
    },
    {
      "cell_type": "markdown",
      "source": [
        "Q.11 Write a program that checks if a number is positive, negative, or zero"
      ],
      "metadata": {
        "id": "QNkj37DJP8R2"
      }
    },
    {
      "cell_type": "code",
      "source": [
        "#Ans.11\n",
        "# Taking user input\n",
        "num = float(input(\"Enter a number: \"))\n",
        "\n",
        "# Checking the number type\n",
        "if num > 0:\n",
        "    print(\"The number is Positive.\")\n",
        "elif num < 0:\n",
        "    print(\"The number is Negative.\")\n",
        "else:\n",
        "    print(\"The number is Zero.\")\n"
      ],
      "metadata": {
        "colab": {
          "base_uri": "https://localhost:8080/"
        },
        "id": "7sG9ivsEP76J",
        "outputId": "7fc18fce-228c-45bd-d3a5-7723d7a60273"
      },
      "execution_count": 52,
      "outputs": [
        {
          "output_type": "stream",
          "name": "stdout",
          "text": [
            "Enter a number: -9\n",
            "The number is Negative.\n"
          ]
        }
      ]
    },
    {
      "cell_type": "markdown",
      "source": [
        " Q.12 Write a for loop to print numbers from 1 to 10."
      ],
      "metadata": {
        "id": "38cRVLq3QY9q"
      }
    },
    {
      "cell_type": "code",
      "source": [
        "#Ans.12\n",
        "for i in range(1,11):\n",
        "  print(i)"
      ],
      "metadata": {
        "colab": {
          "base_uri": "https://localhost:8080/"
        },
        "id": "ScVjDbmrQcT5",
        "outputId": "b123808e-13cf-497d-c2ed-936725cbc991"
      },
      "execution_count": 60,
      "outputs": [
        {
          "output_type": "stream",
          "name": "stdout",
          "text": [
            "1\n",
            "2\n",
            "3\n",
            "4\n",
            "5\n",
            "6\n",
            "7\n",
            "8\n",
            "9\n",
            "10\n"
          ]
        }
      ]
    },
    {
      "cell_type": "markdown",
      "source": [
        "Q.13 Write a Python program to find the sum of all even numbers between 1 and 50"
      ],
      "metadata": {
        "id": "SNVRtTvFRRkL"
      }
    },
    {
      "cell_type": "code",
      "source": [
        "#Ans.13\n",
        "sum_even = 0  # Initialize sum\n",
        "\n",
        "for num in range(2, 51, 2):  # Loop through even numbers from 2 to 50\n",
        "    sum_even += num  # Add even number to sum\n",
        "\n",
        "print(\"Sum of even numbers from 1 to 50:\", sum_even)\n"
      ],
      "metadata": {
        "colab": {
          "base_uri": "https://localhost:8080/"
        },
        "id": "P1yyIxumRX-D",
        "outputId": "cb387cf4-9163-459f-b725-1970c48e573c"
      },
      "execution_count": 61,
      "outputs": [
        {
          "output_type": "stream",
          "name": "stdout",
          "text": [
            "Sum of even numbers from 1 to 50: 650\n"
          ]
        }
      ]
    },
    {
      "cell_type": "markdown",
      "source": [
        "Q.14 Write a program to reverse a string using a while loop."
      ],
      "metadata": {
        "id": "tCtRo26HR7sd"
      }
    },
    {
      "cell_type": "code",
      "source": [
        "#Ans.14\n",
        "\n",
        "# Taking user input\n",
        "text = input(\"Enter a string: \")\n",
        "reversed_text = \"\"\n",
        "\n",
        "i = len(text) - 1  # Start from the last index\n",
        "\n",
        "while i >= 0:\n",
        "    reversed_text += text[i]\n",
        "    i -= 1  # Move to the previous character\n",
        "\n",
        "print(\"Reversed string:\", reversed_text)\n"
      ],
      "metadata": {
        "colab": {
          "base_uri": "https://localhost:8080/"
        },
        "id": "tPgnyRDTSBRY",
        "outputId": "ecfe4f2a-4e81-4dbf-9c08-94194ca68fd5"
      },
      "execution_count": 63,
      "outputs": [
        {
          "output_type": "stream",
          "name": "stdout",
          "text": [
            "Enter a string: Kamlesh\n",
            "Reversed string: hselmaK\n"
          ]
        }
      ]
    },
    {
      "cell_type": "markdown",
      "source": [
        "Write a Python program to calculate the factorial of a number provided by the user using a while loop."
      ],
      "metadata": {
        "id": "pVIO3B0ZSYPu"
      }
    },
    {
      "cell_type": "code",
      "source": [
        "#Ans.15\n",
        "\n",
        "# Taking user input\n",
        "num = int(input(\"Enter a number: \"))\n",
        "\n",
        "# Initializing factorial and counter\n",
        "factorial = 1\n",
        "i = num\n",
        "\n",
        "# Calculating factorial using while loop\n",
        "while i > 1:\n",
        "    factorial *= i\n",
        "    i -= 1  # Decrease counter\n",
        "\n",
        "print(\"Factorial of\", num, \"is:\", factorial)\n"
      ],
      "metadata": {
        "colab": {
          "base_uri": "https://localhost:8080/"
        },
        "id": "FyVhpDZUSX0D",
        "outputId": "126488d9-684d-4c89-d78f-bf7f22a30c61"
      },
      "execution_count": 66,
      "outputs": [
        {
          "output_type": "stream",
          "name": "stdout",
          "text": [
            "Enter a number: 15\n",
            "Factorial of 15 is: 1307674368000\n"
          ]
        }
      ]
    }
  ]
}